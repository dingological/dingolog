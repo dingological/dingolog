{
 "cells": [
  {
   "cell_type": "markdown",
   "metadata": {},
   "source": [
    "## Customer Life Time Value (CLTV) Calculation on Retail Dataset"
   ]
  },
  {
   "cell_type": "markdown",
   "metadata": {},
   "source": [
    "##### Link of data: https://archive.ics.uci.edu/ml/datasets/Online+Retail+II"
   ]
  },
  {
   "cell_type": "markdown",
   "metadata": {},
   "source": [
    "           "
   ]
  },
  {
   "cell_type": "markdown",
   "metadata": {},
   "source": [
    "##### In this project I tried to apply Customer Life Time Value calculation and Customer segmentation methods to retail dataset above"
   ]
  },
  {
   "cell_type": "markdown",
   "metadata": {},
   "source": [
    "     "
   ]
  },
  {
   "cell_type": "markdown",
   "metadata": {},
   "source": [
    "### Imports"
   ]
  },
  {
   "cell_type": "code",
   "execution_count": 1,
   "metadata": {},
   "outputs": [],
   "source": [
    "import datetime as dt\n",
    "import pandas as pd\n",
    "import pymysql\n",
    "from sqlalchemy import create_engine\n",
    "from sklearn.preprocessing import MinMaxScaler\n",
    "from lifetimes import BetaGeoFitter\n",
    "from lifetimes import GammaGammaFitter"
   ]
  },
  {
   "cell_type": "markdown",
   "metadata": {},
   "source": [
    "##### This is how you read data from your own device\n",
    "##### There are multiple sheets which are consist of different years\n",
    "##### In this project we will focus on 2010-2011 sheet"
   ]
  },
  {
   "cell_type": "code",
   "execution_count": 2,
   "metadata": {},
   "outputs": [],
   "source": [
    "df_ = pd.read_excel(\"retail.xlsx\", sheet_name=\"Year 2010-2011\")"
   ]
  },
  {
   "cell_type": "code",
   "execution_count": 45,
   "metadata": {},
   "outputs": [],
   "source": [
    "df = df_.copy() # You better take a copy of your data. Because the data is hard to load in case of screw up :)"
   ]
  },
  {
   "cell_type": "markdown",
   "metadata": {},
   "source": [
    "### Data Preperation"
   ]
  },
  {
   "cell_type": "code",
   "execution_count": null,
   "metadata": {},
   "outputs": [],
   "source": [
    "df.head()"
   ]
  },
  {
   "cell_type": "code",
   "execution_count": 13,
   "metadata": {},
   "outputs": [
    {
     "data": {
      "text/plain": [
       "Invoice             0\n",
       "StockCode           0\n",
       "Description      1454\n",
       "Quantity            0\n",
       "InvoiceDate         0\n",
       "Price               0\n",
       "Customer ID    135080\n",
       "Country             0\n",
       "dtype: int64"
      ]
     },
     "execution_count": 13,
     "metadata": {},
     "output_type": "execute_result"
    }
   ],
   "source": [
    "df.isna().sum()"
   ]
  },
  {
   "cell_type": "code",
   "execution_count": 16,
   "metadata": {},
   "outputs": [
    {
     "data": {
      "text/html": [
       "<div>\n",
       "<style scoped>\n",
       "    .dataframe tbody tr th:only-of-type {\n",
       "        vertical-align: middle;\n",
       "    }\n",
       "\n",
       "    .dataframe tbody tr th {\n",
       "        vertical-align: top;\n",
       "    }\n",
       "\n",
       "    .dataframe thead th {\n",
       "        text-align: right;\n",
       "    }\n",
       "</style>\n",
       "<table border=\"1\" class=\"dataframe\">\n",
       "  <thead>\n",
       "    <tr style=\"text-align: right;\">\n",
       "      <th></th>\n",
       "      <th>count</th>\n",
       "      <th>mean</th>\n",
       "      <th>std</th>\n",
       "      <th>min</th>\n",
       "      <th>1%</th>\n",
       "      <th>5%</th>\n",
       "      <th>10%</th>\n",
       "      <th>25%</th>\n",
       "      <th>50%</th>\n",
       "      <th>75%</th>\n",
       "      <th>90%</th>\n",
       "      <th>95%</th>\n",
       "      <th>99%</th>\n",
       "      <th>max</th>\n",
       "    </tr>\n",
       "  </thead>\n",
       "  <tbody>\n",
       "    <tr>\n",
       "      <th>Quantity</th>\n",
       "      <td>397925.0</td>\n",
       "      <td>13.021793</td>\n",
       "      <td>180.419984</td>\n",
       "      <td>1.0</td>\n",
       "      <td>1.00</td>\n",
       "      <td>1.00</td>\n",
       "      <td>1.00</td>\n",
       "      <td>2.00</td>\n",
       "      <td>6.00</td>\n",
       "      <td>12.00</td>\n",
       "      <td>24.00</td>\n",
       "      <td>36.0</td>\n",
       "      <td>120.00</td>\n",
       "      <td>80995.00</td>\n",
       "    </tr>\n",
       "    <tr>\n",
       "      <th>Price</th>\n",
       "      <td>397925.0</td>\n",
       "      <td>3.116212</td>\n",
       "      <td>22.096773</td>\n",
       "      <td>0.0</td>\n",
       "      <td>0.21</td>\n",
       "      <td>0.42</td>\n",
       "      <td>0.55</td>\n",
       "      <td>1.25</td>\n",
       "      <td>1.95</td>\n",
       "      <td>3.75</td>\n",
       "      <td>6.35</td>\n",
       "      <td>8.5</td>\n",
       "      <td>14.95</td>\n",
       "      <td>8142.75</td>\n",
       "    </tr>\n",
       "    <tr>\n",
       "      <th>Customer ID</th>\n",
       "      <td>397925.0</td>\n",
       "      <td>15294.308601</td>\n",
       "      <td>1713.172738</td>\n",
       "      <td>12346.0</td>\n",
       "      <td>12415.00</td>\n",
       "      <td>12627.00</td>\n",
       "      <td>12883.00</td>\n",
       "      <td>13969.00</td>\n",
       "      <td>15159.00</td>\n",
       "      <td>16795.00</td>\n",
       "      <td>17725.00</td>\n",
       "      <td>17912.0</td>\n",
       "      <td>18211.00</td>\n",
       "      <td>18287.00</td>\n",
       "    </tr>\n",
       "  </tbody>\n",
       "</table>\n",
       "</div>"
      ],
      "text/plain": [
       "                count          mean          std      min        1%        5%  \\\n",
       "Quantity     397925.0     13.021793   180.419984      1.0      1.00      1.00   \n",
       "Price        397925.0      3.116212    22.096773      0.0      0.21      0.42   \n",
       "Customer ID  397925.0  15294.308601  1713.172738  12346.0  12415.00  12627.00   \n",
       "\n",
       "                  10%       25%       50%       75%       90%      95%  \\\n",
       "Quantity         1.00      2.00      6.00     12.00     24.00     36.0   \n",
       "Price            0.55      1.25      1.95      3.75      6.35      8.5   \n",
       "Customer ID  12883.00  13969.00  15159.00  16795.00  17725.00  17912.0   \n",
       "\n",
       "                  99%       max  \n",
       "Quantity       120.00  80995.00  \n",
       "Price           14.95   8142.75  \n",
       "Customer ID  18211.00  18287.00  "
      ]
     },
     "execution_count": 16,
     "metadata": {},
     "output_type": "execute_result"
    }
   ],
   "source": [
    "df.describe([0.01, 0.05, 0.10, 0.25, 0.50, 0.75, 0.90, 0.95, 0.99]).T"
   ]
  },
  {
   "cell_type": "markdown",
   "metadata": {},
   "source": [
    "##### In this data set as can be seen Customer ID and Invoice variables are consist of dublicated records\n",
    "##### This means a customer can have more than one invoice and an invoice can have more than one items"
   ]
  },
  {
   "cell_type": "markdown",
   "metadata": {},
   "source": [
    "##### There are some Null values lets get rid of them"
   ]
  },
  {
   "cell_type": "code",
   "execution_count": 3,
   "metadata": {},
   "outputs": [],
   "source": [
    "df.dropna(axis=0, inplace=True)\n"
   ]
  },
  {
   "cell_type": "markdown",
   "metadata": {},
   "source": [
    "##### As mentioned in data source there are some cancelled Invoices in the data set.\n",
    "##### Cancelled invoices are represented with a capital \"C\" in the Invoice variable.\n",
    "##### We need to get rid of them too."
   ]
  },
  {
   "cell_type": "code",
   "execution_count": 4,
   "metadata": {},
   "outputs": [],
   "source": [
    "df = df[~df[\"Invoice\"].str.contains(\"C\", na=False)]"
   ]
  },
  {
   "cell_type": "markdown",
   "metadata": {},
   "source": [
    "##### If we look at varience of Quantity and Price variables we can see that the max values are rediculusly high.\n",
    "##### Lets pressure them down with the following functions"
   ]
  },
  {
   "cell_type": "code",
   "execution_count": 5,
   "metadata": {},
   "outputs": [],
   "source": [
    "def outlier_thresholds(dataframe, variable):\n",
    "    quartile1 = dataframe[variable].quantile(0.01)\n",
    "    quartile3 = dataframe[variable].quantile(0.99)\n",
    "    interquantile_range = quartile3 - quartile1\n",
    "    up_limit = quartile3 + 1.5 * interquantile_range\n",
    "    return up_limit\n",
    "\n",
    "\n",
    "def replace_with_thresholds(dataframe, variable):\n",
    "    up_limit = outlier_thresholds(dataframe, variable)\n",
    "    dataframe.loc[(dataframe[variable] > up_limit), variable] = up_limit\n",
    "    \n",
    "replace_with_thresholds(df, \"Quantity\")\n",
    "replace_with_thresholds(df, \"Price\")"
   ]
  },
  {
   "cell_type": "markdown",
   "metadata": {},
   "source": [
    "##### Lets check again"
   ]
  },
  {
   "cell_type": "code",
   "execution_count": 6,
   "metadata": {},
   "outputs": [
    {
     "data": {
      "text/html": [
       "<div>\n",
       "<style scoped>\n",
       "    .dataframe tbody tr th:only-of-type {\n",
       "        vertical-align: middle;\n",
       "    }\n",
       "\n",
       "    .dataframe tbody tr th {\n",
       "        vertical-align: top;\n",
       "    }\n",
       "\n",
       "    .dataframe thead th {\n",
       "        text-align: right;\n",
       "    }\n",
       "</style>\n",
       "<table border=\"1\" class=\"dataframe\">\n",
       "  <thead>\n",
       "    <tr style=\"text-align: right;\">\n",
       "      <th></th>\n",
       "      <th>count</th>\n",
       "      <th>mean</th>\n",
       "      <th>std</th>\n",
       "      <th>min</th>\n",
       "      <th>1%</th>\n",
       "      <th>5%</th>\n",
       "      <th>10%</th>\n",
       "      <th>25%</th>\n",
       "      <th>50%</th>\n",
       "      <th>75%</th>\n",
       "      <th>90%</th>\n",
       "      <th>95%</th>\n",
       "      <th>99%</th>\n",
       "      <th>max</th>\n",
       "    </tr>\n",
       "  </thead>\n",
       "  <tbody>\n",
       "    <tr>\n",
       "      <th>Quantity</th>\n",
       "      <td>397925.0</td>\n",
       "      <td>11.833709</td>\n",
       "      <td>25.534486</td>\n",
       "      <td>1.0</td>\n",
       "      <td>1.00</td>\n",
       "      <td>1.00</td>\n",
       "      <td>1.00</td>\n",
       "      <td>2.00</td>\n",
       "      <td>6.00</td>\n",
       "      <td>12.00</td>\n",
       "      <td>24.00</td>\n",
       "      <td>36.0</td>\n",
       "      <td>120.00</td>\n",
       "      <td>298.50</td>\n",
       "    </tr>\n",
       "    <tr>\n",
       "      <th>Price</th>\n",
       "      <td>397925.0</td>\n",
       "      <td>2.893201</td>\n",
       "      <td>3.227143</td>\n",
       "      <td>0.0</td>\n",
       "      <td>0.21</td>\n",
       "      <td>0.42</td>\n",
       "      <td>0.55</td>\n",
       "      <td>1.25</td>\n",
       "      <td>1.95</td>\n",
       "      <td>3.75</td>\n",
       "      <td>6.35</td>\n",
       "      <td>8.5</td>\n",
       "      <td>14.95</td>\n",
       "      <td>37.06</td>\n",
       "    </tr>\n",
       "    <tr>\n",
       "      <th>Customer ID</th>\n",
       "      <td>397925.0</td>\n",
       "      <td>15294.308601</td>\n",
       "      <td>1713.172738</td>\n",
       "      <td>12346.0</td>\n",
       "      <td>12415.00</td>\n",
       "      <td>12627.00</td>\n",
       "      <td>12883.00</td>\n",
       "      <td>13969.00</td>\n",
       "      <td>15159.00</td>\n",
       "      <td>16795.00</td>\n",
       "      <td>17725.00</td>\n",
       "      <td>17912.0</td>\n",
       "      <td>18211.00</td>\n",
       "      <td>18287.00</td>\n",
       "    </tr>\n",
       "  </tbody>\n",
       "</table>\n",
       "</div>"
      ],
      "text/plain": [
       "                count          mean          std      min        1%        5%  \\\n",
       "Quantity     397925.0     11.833709    25.534486      1.0      1.00      1.00   \n",
       "Price        397925.0      2.893201     3.227143      0.0      0.21      0.42   \n",
       "Customer ID  397925.0  15294.308601  1713.172738  12346.0  12415.00  12627.00   \n",
       "\n",
       "                  10%       25%       50%       75%       90%      95%  \\\n",
       "Quantity         1.00      2.00      6.00     12.00     24.00     36.0   \n",
       "Price            0.55      1.25      1.95      3.75      6.35      8.5   \n",
       "Customer ID  12883.00  13969.00  15159.00  16795.00  17725.00  17912.0   \n",
       "\n",
       "                  99%       max  \n",
       "Quantity       120.00    298.50  \n",
       "Price           14.95     37.06  \n",
       "Customer ID  18211.00  18287.00  "
      ]
     },
     "execution_count": 6,
     "metadata": {},
     "output_type": "execute_result"
    }
   ],
   "source": [
    "df.describe([0.01, 0.05, 0.10, 0.25, 0.50, 0.75, 0.90, 0.95, 0.99]).T"
   ]
  },
  {
   "cell_type": "markdown",
   "metadata": {},
   "source": [
    "##### Looks great\n",
    "##### Lets create a variable called \"Total Price\" by multiplying Price and Quantity variables to calculate the amount paid in total"
   ]
  },
  {
   "cell_type": "code",
   "execution_count": 7,
   "metadata": {},
   "outputs": [],
   "source": [
    "df[\"TotalPrice\"] = df[\"Quantity\"] * df[\"Price\"]"
   ]
  },
  {
   "cell_type": "markdown",
   "metadata": {},
   "source": [
    "   "
   ]
  },
  {
   "cell_type": "markdown",
   "metadata": {},
   "source": [
    "### Calculating Customer Life Time Values (CLTV)"
   ]
  },
  {
   "cell_type": "markdown",
   "metadata": {},
   "source": [
    "##### To start we need to have recency, frequency, monetary variables\n",
    "##### recency: means how many days have passed since customers last purches\n",
    "##### frequency: means how many purches a customer had until today\n",
    "##### monetary: means how much money spent by a customer umtil today\n",
    "##### T: means how many days have passed since customers first purches (Customer's Age)\n",
    "##### Lets create them"
   ]
  },
  {
   "cell_type": "markdown",
   "metadata": {},
   "source": [
    "##### But what is today? We need to define a \"today\" first :)"
   ]
  },
  {
   "cell_type": "code",
   "execution_count": 8,
   "metadata": {},
   "outputs": [],
   "source": [
    "df[\"InvoiceDate\"].max()\n",
    "\n",
    "today_date = dt.datetime(2011, 12, 11)"
   ]
  },
  {
   "cell_type": "markdown",
   "metadata": {},
   "source": [
    "##### We need to take a look at max value in \"InvoiceDate\" variable and chose a date later than the maximum value \n",
    "##### so that we dont get negative values in recency variable we will create in a bit\n",
    "##### thats why we chose df[\"InvoiceDate\"].max() + 2 days"
   ]
  },
  {
   "cell_type": "markdown",
   "metadata": {},
   "source": [
    "##### Now we can create rfm table"
   ]
  },
  {
   "cell_type": "code",
   "execution_count": 20,
   "metadata": {},
   "outputs": [],
   "source": [
    "rfm = df.groupby('Customer ID').agg({'InvoiceDate': [lambda date: (date.max()-date.min()).days,\n",
    "                                                    lambda date: (today_date - date.min()).days],\n",
    "                                                'Invoice': lambda num: num.nunique(),\n",
    "                                                'TotalPrice': lambda TotalPrice: TotalPrice.sum()})\n",
    "\n",
    "rfm.columns = ['recency_cltv_p', 'T', 'frequency', 'monetary']"
   ]
  },
  {
   "cell_type": "markdown",
   "metadata": {
    "jupyter": {
     "outputs_hidden": true
    }
   },
   "source": [
    "##### Lets see our rfm table loks like"
   ]
  },
  {
   "cell_type": "code",
   "execution_count": 12,
   "metadata": {
    "collapsed": true,
    "jupyter": {
     "outputs_hidden": true
    }
   },
   "outputs": [
    {
     "data": {
      "text/html": [
       "<div>\n",
       "<style scoped>\n",
       "    .dataframe tbody tr th:only-of-type {\n",
       "        vertical-align: middle;\n",
       "    }\n",
       "\n",
       "    .dataframe tbody tr th {\n",
       "        vertical-align: top;\n",
       "    }\n",
       "\n",
       "    .dataframe thead th {\n",
       "        text-align: right;\n",
       "    }\n",
       "</style>\n",
       "<table border=\"1\" class=\"dataframe\">\n",
       "  <thead>\n",
       "    <tr style=\"text-align: right;\">\n",
       "      <th></th>\n",
       "      <th>recency_cltv_p</th>\n",
       "      <th>T</th>\n",
       "      <th>frequency</th>\n",
       "      <th>monetary</th>\n",
       "    </tr>\n",
       "    <tr>\n",
       "      <th>Customer ID</th>\n",
       "      <th></th>\n",
       "      <th></th>\n",
       "      <th></th>\n",
       "      <th></th>\n",
       "    </tr>\n",
       "  </thead>\n",
       "  <tbody>\n",
       "    <tr>\n",
       "      <th>12346.0</th>\n",
       "      <td>0</td>\n",
       "      <td>326</td>\n",
       "      <td>1</td>\n",
       "      <td>310.44</td>\n",
       "    </tr>\n",
       "    <tr>\n",
       "      <th>12347.0</th>\n",
       "      <td>365</td>\n",
       "      <td>368</td>\n",
       "      <td>7</td>\n",
       "      <td>4310.00</td>\n",
       "    </tr>\n",
       "    <tr>\n",
       "      <th>12348.0</th>\n",
       "      <td>282</td>\n",
       "      <td>359</td>\n",
       "      <td>4</td>\n",
       "      <td>1770.78</td>\n",
       "    </tr>\n",
       "    <tr>\n",
       "      <th>12349.0</th>\n",
       "      <td>0</td>\n",
       "      <td>19</td>\n",
       "      <td>1</td>\n",
       "      <td>1491.72</td>\n",
       "    </tr>\n",
       "    <tr>\n",
       "      <th>12350.0</th>\n",
       "      <td>0</td>\n",
       "      <td>311</td>\n",
       "      <td>1</td>\n",
       "      <td>331.46</td>\n",
       "    </tr>\n",
       "  </tbody>\n",
       "</table>\n",
       "</div>"
      ],
      "text/plain": [
       "             recency_cltv_p    T  frequency  monetary\n",
       "Customer ID                                          \n",
       "12346.0                   0  326          1    310.44\n",
       "12347.0                 365  368          7   4310.00\n",
       "12348.0                 282  359          4   1770.78\n",
       "12349.0                   0   19          1   1491.72\n",
       "12350.0                   0  311          1    331.46"
      ]
     },
     "execution_count": 12,
     "metadata": {},
     "output_type": "execute_result"
    }
   ],
   "source": [
    "rfm.head()"
   ]
  },
  {
   "cell_type": "code",
   "execution_count": 13,
   "metadata": {},
   "outputs": [
    {
     "data": {
      "text/html": [
       "<div>\n",
       "<style scoped>\n",
       "    .dataframe tbody tr th:only-of-type {\n",
       "        vertical-align: middle;\n",
       "    }\n",
       "\n",
       "    .dataframe tbody tr th {\n",
       "        vertical-align: top;\n",
       "    }\n",
       "\n",
       "    .dataframe thead th {\n",
       "        text-align: right;\n",
       "    }\n",
       "</style>\n",
       "<table border=\"1\" class=\"dataframe\">\n",
       "  <thead>\n",
       "    <tr style=\"text-align: right;\">\n",
       "      <th></th>\n",
       "      <th>count</th>\n",
       "      <th>mean</th>\n",
       "      <th>std</th>\n",
       "      <th>min</th>\n",
       "      <th>1%</th>\n",
       "      <th>5%</th>\n",
       "      <th>10%</th>\n",
       "      <th>25%</th>\n",
       "      <th>50%</th>\n",
       "      <th>75%</th>\n",
       "      <th>90%</th>\n",
       "      <th>95%</th>\n",
       "      <th>99%</th>\n",
       "      <th>max</th>\n",
       "    </tr>\n",
       "  </thead>\n",
       "  <tbody>\n",
       "    <tr>\n",
       "      <th>recency_cltv_p</th>\n",
       "      <td>4339.0</td>\n",
       "      <td>130.418530</td>\n",
       "      <td>132.039186</td>\n",
       "      <td>0.0</td>\n",
       "      <td>0.0000</td>\n",
       "      <td>0.000</td>\n",
       "      <td>0.00</td>\n",
       "      <td>0.000</td>\n",
       "      <td>92.00</td>\n",
       "      <td>251.500</td>\n",
       "      <td>339.000</td>\n",
       "      <td>356.000</td>\n",
       "      <td>367.0000</td>\n",
       "      <td>373.000</td>\n",
       "    </tr>\n",
       "    <tr>\n",
       "      <th>T</th>\n",
       "      <td>4339.0</td>\n",
       "      <td>223.782899</td>\n",
       "      <td>117.883623</td>\n",
       "      <td>1.0</td>\n",
       "      <td>10.0000</td>\n",
       "      <td>26.000</td>\n",
       "      <td>46.00</td>\n",
       "      <td>113.000</td>\n",
       "      <td>249.00</td>\n",
       "      <td>327.000</td>\n",
       "      <td>367.000</td>\n",
       "      <td>372.000</td>\n",
       "      <td>374.0000</td>\n",
       "      <td>374.000</td>\n",
       "    </tr>\n",
       "    <tr>\n",
       "      <th>frequency</th>\n",
       "      <td>4339.0</td>\n",
       "      <td>4.271952</td>\n",
       "      <td>7.705493</td>\n",
       "      <td>1.0</td>\n",
       "      <td>1.0000</td>\n",
       "      <td>1.000</td>\n",
       "      <td>1.00</td>\n",
       "      <td>1.000</td>\n",
       "      <td>2.00</td>\n",
       "      <td>5.000</td>\n",
       "      <td>9.000</td>\n",
       "      <td>13.000</td>\n",
       "      <td>30.0000</td>\n",
       "      <td>210.000</td>\n",
       "    </tr>\n",
       "    <tr>\n",
       "      <th>monetary</th>\n",
       "      <td>4339.0</td>\n",
       "      <td>1891.748117</td>\n",
       "      <td>7705.372078</td>\n",
       "      <td>0.0</td>\n",
       "      <td>50.8419</td>\n",
       "      <td>110.908</td>\n",
       "      <td>154.87</td>\n",
       "      <td>303.125</td>\n",
       "      <td>662.59</td>\n",
       "      <td>1630.445</td>\n",
       "      <td>3579.054</td>\n",
       "      <td>5633.161</td>\n",
       "      <td>16944.7554</td>\n",
       "      <td>266163.525</td>\n",
       "    </tr>\n",
       "  </tbody>\n",
       "</table>\n",
       "</div>"
      ],
      "text/plain": [
       "                 count         mean          std  min       1%       5%  \\\n",
       "recency_cltv_p  4339.0   130.418530   132.039186  0.0   0.0000    0.000   \n",
       "T               4339.0   223.782899   117.883623  1.0  10.0000   26.000   \n",
       "frequency       4339.0     4.271952     7.705493  1.0   1.0000    1.000   \n",
       "monetary        4339.0  1891.748117  7705.372078  0.0  50.8419  110.908   \n",
       "\n",
       "                   10%      25%     50%       75%       90%       95%  \\\n",
       "recency_cltv_p    0.00    0.000   92.00   251.500   339.000   356.000   \n",
       "T                46.00  113.000  249.00   327.000   367.000   372.000   \n",
       "frequency         1.00    1.000    2.00     5.000     9.000    13.000   \n",
       "monetary        154.87  303.125  662.59  1630.445  3579.054  5633.161   \n",
       "\n",
       "                       99%         max  \n",
       "recency_cltv_p    367.0000     373.000  \n",
       "T                 374.0000     374.000  \n",
       "frequency          30.0000     210.000  \n",
       "monetary        16944.7554  266163.525  "
      ]
     },
     "execution_count": 13,
     "metadata": {},
     "output_type": "execute_result"
    }
   ],
   "source": [
    "rfm.describe([0.01, 0.05, 0.10, 0.25, 0.50, 0.75, 0.90, 0.95, 0.99]).T"
   ]
  },
  {
   "cell_type": "markdown",
   "metadata": {},
   "source": [
    "##### As can be seen there are customers with \"0\" monetary which is weird because they got invoices but the amount is \"0\"\n",
    "##### Lets get rid of them\n",
    "##### Also to calculate a life time value we better select customers which has more than one purcheses\n",
    "##### Lets do that too "
   ]
  },
  {
   "cell_type": "code",
   "execution_count": 21,
   "metadata": {},
   "outputs": [],
   "source": [
    "rfm = rfm[rfm[\"monetary\"] > 0]\n",
    "\n",
    "rfm = rfm[(rfm['frequency'] > 1)]"
   ]
  },
  {
   "cell_type": "markdown",
   "metadata": {},
   "source": [
    "##### Now lets change \"monetary\" variable into \"avg_monetary\" by diveding \"frequency\" variable to calculate avarage monetary value per purches"
   ]
  },
  {
   "cell_type": "code",
   "execution_count": 22,
   "metadata": {},
   "outputs": [],
   "source": [
    "rfm[\"monetary\"] = rfm[\"monetary\"] / rfm[\"frequency\"]\n",
    "\n",
    "rfm.rename(columns={\"monetary\": \"monetary_avg\"}, inplace=True)"
   ]
  },
  {
   "cell_type": "markdown",
   "metadata": {},
   "source": [
    "##### Lets check again if it all worked out"
   ]
  },
  {
   "cell_type": "code",
   "execution_count": 23,
   "metadata": {},
   "outputs": [
    {
     "data": {
      "text/html": [
       "<div>\n",
       "<style scoped>\n",
       "    .dataframe tbody tr th:only-of-type {\n",
       "        vertical-align: middle;\n",
       "    }\n",
       "\n",
       "    .dataframe tbody tr th {\n",
       "        vertical-align: top;\n",
       "    }\n",
       "\n",
       "    .dataframe thead th {\n",
       "        text-align: right;\n",
       "    }\n",
       "</style>\n",
       "<table border=\"1\" class=\"dataframe\">\n",
       "  <thead>\n",
       "    <tr style=\"text-align: right;\">\n",
       "      <th></th>\n",
       "      <th>recency_cltv_p</th>\n",
       "      <th>T</th>\n",
       "      <th>frequency</th>\n",
       "      <th>monetary_avg</th>\n",
       "    </tr>\n",
       "    <tr>\n",
       "      <th>Customer ID</th>\n",
       "      <th></th>\n",
       "      <th></th>\n",
       "      <th></th>\n",
       "      <th></th>\n",
       "    </tr>\n",
       "  </thead>\n",
       "  <tbody>\n",
       "    <tr>\n",
       "      <th>12347.0</th>\n",
       "      <td>365</td>\n",
       "      <td>368</td>\n",
       "      <td>7</td>\n",
       "      <td>615.714286</td>\n",
       "    </tr>\n",
       "    <tr>\n",
       "      <th>12348.0</th>\n",
       "      <td>282</td>\n",
       "      <td>359</td>\n",
       "      <td>4</td>\n",
       "      <td>442.695000</td>\n",
       "    </tr>\n",
       "    <tr>\n",
       "      <th>12352.0</th>\n",
       "      <td>260</td>\n",
       "      <td>297</td>\n",
       "      <td>8</td>\n",
       "      <td>219.542500</td>\n",
       "    </tr>\n",
       "    <tr>\n",
       "      <th>12356.0</th>\n",
       "      <td>302</td>\n",
       "      <td>326</td>\n",
       "      <td>3</td>\n",
       "      <td>937.143333</td>\n",
       "    </tr>\n",
       "    <tr>\n",
       "      <th>12358.0</th>\n",
       "      <td>149</td>\n",
       "      <td>151</td>\n",
       "      <td>2</td>\n",
       "      <td>575.210000</td>\n",
       "    </tr>\n",
       "  </tbody>\n",
       "</table>\n",
       "</div>"
      ],
      "text/plain": [
       "             recency_cltv_p    T  frequency  monetary_avg\n",
       "Customer ID                                              \n",
       "12347.0                 365  368          7    615.714286\n",
       "12348.0                 282  359          4    442.695000\n",
       "12352.0                 260  297          8    219.542500\n",
       "12356.0                 302  326          3    937.143333\n",
       "12358.0                 149  151          2    575.210000"
      ]
     },
     "execution_count": 23,
     "metadata": {},
     "output_type": "execute_result"
    }
   ],
   "source": [
    "rfm.head()"
   ]
  },
  {
   "cell_type": "code",
   "execution_count": 18,
   "metadata": {},
   "outputs": [
    {
     "data": {
      "text/html": [
       "<div>\n",
       "<style scoped>\n",
       "    .dataframe tbody tr th:only-of-type {\n",
       "        vertical-align: middle;\n",
       "    }\n",
       "\n",
       "    .dataframe tbody tr th {\n",
       "        vertical-align: top;\n",
       "    }\n",
       "\n",
       "    .dataframe thead th {\n",
       "        text-align: right;\n",
       "    }\n",
       "</style>\n",
       "<table border=\"1\" class=\"dataframe\">\n",
       "  <thead>\n",
       "    <tr style=\"text-align: right;\">\n",
       "      <th></th>\n",
       "      <th>count</th>\n",
       "      <th>mean</th>\n",
       "      <th>std</th>\n",
       "      <th>min</th>\n",
       "      <th>1%</th>\n",
       "      <th>5%</th>\n",
       "      <th>10%</th>\n",
       "      <th>25%</th>\n",
       "      <th>50%</th>\n",
       "      <th>75%</th>\n",
       "      <th>90%</th>\n",
       "      <th>95%</th>\n",
       "      <th>99%</th>\n",
       "      <th>max</th>\n",
       "    </tr>\n",
       "  </thead>\n",
       "  <tbody>\n",
       "    <tr>\n",
       "      <th>recency_cltv_p</th>\n",
       "      <td>2845.0</td>\n",
       "      <td>198.905448</td>\n",
       "      <td>113.866961</td>\n",
       "      <td>0.00</td>\n",
       "      <td>0.0000</td>\n",
       "      <td>16.000000</td>\n",
       "      <td>35.000</td>\n",
       "      <td>98.00</td>\n",
       "      <td>207.000000</td>\n",
       "      <td>299.00</td>\n",
       "      <td>352.000000</td>\n",
       "      <td>361.800000</td>\n",
       "      <td>369.0000</td>\n",
       "      <td>373.000000</td>\n",
       "    </tr>\n",
       "    <tr>\n",
       "      <th>T</th>\n",
       "      <td>2845.0</td>\n",
       "      <td>258.784183</td>\n",
       "      <td>102.990922</td>\n",
       "      <td>3.00</td>\n",
       "      <td>23.4400</td>\n",
       "      <td>55.000000</td>\n",
       "      <td>85.000</td>\n",
       "      <td>192.00</td>\n",
       "      <td>283.000000</td>\n",
       "      <td>359.00</td>\n",
       "      <td>369.000000</td>\n",
       "      <td>373.000000</td>\n",
       "      <td>374.0000</td>\n",
       "      <td>374.000000</td>\n",
       "    </tr>\n",
       "    <tr>\n",
       "      <th>frequency</th>\n",
       "      <td>2845.0</td>\n",
       "      <td>5.990158</td>\n",
       "      <td>9.054720</td>\n",
       "      <td>2.00</td>\n",
       "      <td>2.0000</td>\n",
       "      <td>2.000000</td>\n",
       "      <td>2.000</td>\n",
       "      <td>2.00</td>\n",
       "      <td>4.000000</td>\n",
       "      <td>6.00</td>\n",
       "      <td>11.600000</td>\n",
       "      <td>17.000000</td>\n",
       "      <td>37.0000</td>\n",
       "      <td>210.000000</td>\n",
       "    </tr>\n",
       "    <tr>\n",
       "      <th>monetary_avg</th>\n",
       "      <td>2845.0</td>\n",
       "      <td>372.140959</td>\n",
       "      <td>349.147893</td>\n",
       "      <td>3.45</td>\n",
       "      <td>52.0572</td>\n",
       "      <td>101.978667</td>\n",
       "      <td>132.256</td>\n",
       "      <td>191.07</td>\n",
       "      <td>300.487308</td>\n",
       "      <td>436.87</td>\n",
       "      <td>646.278067</td>\n",
       "      <td>867.951667</td>\n",
       "      <td>1732.1836</td>\n",
       "      <td>5724.302619</td>\n",
       "    </tr>\n",
       "  </tbody>\n",
       "</table>\n",
       "</div>"
      ],
      "text/plain": [
       "                 count        mean         std   min       1%          5%  \\\n",
       "recency_cltv_p  2845.0  198.905448  113.866961  0.00   0.0000   16.000000   \n",
       "T               2845.0  258.784183  102.990922  3.00  23.4400   55.000000   \n",
       "frequency       2845.0    5.990158    9.054720  2.00   2.0000    2.000000   \n",
       "monetary_avg    2845.0  372.140959  349.147893  3.45  52.0572  101.978667   \n",
       "\n",
       "                    10%     25%         50%     75%         90%         95%  \\\n",
       "recency_cltv_p   35.000   98.00  207.000000  299.00  352.000000  361.800000   \n",
       "T                85.000  192.00  283.000000  359.00  369.000000  373.000000   \n",
       "frequency         2.000    2.00    4.000000    6.00   11.600000   17.000000   \n",
       "monetary_avg    132.256  191.07  300.487308  436.87  646.278067  867.951667   \n",
       "\n",
       "                      99%          max  \n",
       "recency_cltv_p   369.0000   373.000000  \n",
       "T                374.0000   374.000000  \n",
       "frequency         37.0000   210.000000  \n",
       "monetary_avg    1732.1836  5724.302619  "
      ]
     },
     "execution_count": 18,
     "metadata": {},
     "output_type": "execute_result"
    }
   ],
   "source": [
    "rfm.describe([0.01, 0.05, 0.10, 0.25, 0.50, 0.75, 0.90, 0.95, 0.99]).T"
   ]
  },
  {
   "cell_type": "markdown",
   "metadata": {},
   "source": [
    "##### Everything looks allright"
   ]
  },
  {
   "cell_type": "markdown",
   "metadata": {
    "jupyter": {
     "outputs_hidden": true
    }
   },
   "source": [
    "##### To calculate cltv we will use BGNBD Model and Gama Gama Model. In order to use this model we neet to change our \"Recency\" and \"T\"(Customer Age) variables into weeks"
   ]
  },
  {
   "cell_type": "code",
   "execution_count": 25,
   "metadata": {},
   "outputs": [],
   "source": [
    "rfm[\"recency_weekly_cltv_p\"] = rfm[\"recency_cltv_p\"] / 7\n",
    "rfm[\"T_weekly\"] = rfm[\"T\"] / 7"
   ]
  },
  {
   "cell_type": "markdown",
   "metadata": {},
   "source": [
    "##### Now we are good to go for building BGNBD Model"
   ]
  },
  {
   "cell_type": "code",
   "execution_count": 26,
   "metadata": {},
   "outputs": [
    {
     "data": {
      "text/plain": [
       "<lifetimes.BetaGeoFitter: fitted with 2845 subjects, a: 0.06, alpha: 9.30, b: 1.13, r: 1.78>"
      ]
     },
     "execution_count": 26,
     "metadata": {},
     "output_type": "execute_result"
    }
   ],
   "source": [
    "bgf = BetaGeoFitter(penalizer_coef=0.01)\n",
    "bgf.fit(rfm['frequency'],\n",
    "        rfm['recency_weekly_cltv_p'],\n",
    "        rfm['T_weekly'])"
   ]
  },
  {
   "cell_type": "markdown",
   "metadata": {},
   "source": [
    "##### With this model we are able to calculate expected purchases of every single customer in the data set. \n",
    "##### Also if we sum up all these purchases we can get the expected revenue of the company"
   ]
  },
  {
   "cell_type": "code",
   "execution_count": 30,
   "metadata": {},
   "outputs": [],
   "source": [
    "# exp_sales_1_month\n",
    "rfm[\"exp_sales_1_month\"] = bgf.predict(4, # <= The time period can be changed here (remember that our time period is in weeks)\n",
    "                                       rfm['frequency'],\n",
    "                                       rfm['recency_weekly_cltv_p'],\n",
    "                                       rfm['T_weekly'])\n",
    "# exp_sales_3_month\n",
    "rfm[\"exp_sales_3_month\"] = bgf.predict(12, # <= The time period can be changed here\n",
    "                                       rfm['frequency'],\n",
    "                                       rfm['recency_weekly_cltv_p'],\n",
    "                                       rfm['T_weekly'])\n",
    "#Note: Here we are not calculating how much money will be spent. We are calculating how many purcheses one customer is likely to make"
   ]
  },
  {
   "cell_type": "markdown",
   "metadata": {},
   "source": [
    "##### Now we will use Gama Gama model to calculate the expected average profit per customer"
   ]
  },
  {
   "cell_type": "code",
   "execution_count": 31,
   "metadata": {},
   "outputs": [],
   "source": [
    "# expected_average_profit\n",
    "ggf = GammaGammaFitter(penalizer_coef=0.01)\n",
    "ggf.fit(rfm['frequency'], rfm['monetary_avg'])\n",
    "rfm[\"expected_average_profit\"] = ggf.conditional_expected_average_profit(rfm['frequency'],\n",
    "                                                                         rfm['monetary_avg'])"
   ]
  },
  {
   "cell_type": "markdown",
   "metadata": {},
   "source": [
    "##### By combining bgf(BGNBD Model) and ggf(Gama Gama Model) we can calculate CLTV for different time periods"
   ]
  },
  {
   "cell_type": "code",
   "execution_count": 32,
   "metadata": {},
   "outputs": [],
   "source": [
    "cltv = ggf.customer_lifetime_value(bgf,\n",
    "                                   rfm['frequency'],\n",
    "                                   rfm['recency_weekly_cltv_p'],\n",
    "                                   rfm['T_weekly'],\n",
    "                                   rfm['monetary_avg'],\n",
    "                                   time=6,   # Here is where we decleare the time period(months) that CLTV will be calculated\n",
    "                                   freq=\"W\", # Here is where we inform our model that in our data the time period is in weeks(w)\n",
    "                                   discount_rate=0.01) \n",
    "\n",
    "rfm[\"cltv_p\"] = cltv"
   ]
  },
  {
   "cell_type": "markdown",
   "metadata": {},
   "source": [
    "##### Lets check again if it all worked out"
   ]
  },
  {
   "cell_type": "code",
   "execution_count": 38,
   "metadata": {},
   "outputs": [
    {
     "data": {
      "text/html": [
       "<div>\n",
       "<style scoped>\n",
       "    .dataframe tbody tr th:only-of-type {\n",
       "        vertical-align: middle;\n",
       "    }\n",
       "\n",
       "    .dataframe tbody tr th {\n",
       "        vertical-align: top;\n",
       "    }\n",
       "\n",
       "    .dataframe thead th {\n",
       "        text-align: right;\n",
       "    }\n",
       "</style>\n",
       "<table border=\"1\" class=\"dataframe\">\n",
       "  <thead>\n",
       "    <tr style=\"text-align: right;\">\n",
       "      <th></th>\n",
       "      <th>recency_cltv_p</th>\n",
       "      <th>T</th>\n",
       "      <th>frequency</th>\n",
       "      <th>monetary_avg</th>\n",
       "      <th>recency_weekly_cltv_p</th>\n",
       "      <th>T_weekly</th>\n",
       "      <th>exp_sales_1_month</th>\n",
       "      <th>exp_sales_3_month</th>\n",
       "      <th>expected_average_profit</th>\n",
       "      <th>cltv_p</th>\n",
       "    </tr>\n",
       "    <tr>\n",
       "      <th>Customer ID</th>\n",
       "      <th></th>\n",
       "      <th></th>\n",
       "      <th></th>\n",
       "      <th></th>\n",
       "      <th></th>\n",
       "      <th></th>\n",
       "      <th></th>\n",
       "      <th></th>\n",
       "      <th></th>\n",
       "      <th></th>\n",
       "    </tr>\n",
       "  </thead>\n",
       "  <tbody>\n",
       "    <tr>\n",
       "      <th>12347.0</th>\n",
       "      <td>365</td>\n",
       "      <td>368</td>\n",
       "      <td>7</td>\n",
       "      <td>615.714286</td>\n",
       "      <td>52.142857</td>\n",
       "      <td>52.571429</td>\n",
       "      <td>0.561684</td>\n",
       "      <td>1.678069</td>\n",
       "      <td>631.911974</td>\n",
       "      <td>2.933517</td>\n",
       "    </tr>\n",
       "    <tr>\n",
       "      <th>12348.0</th>\n",
       "      <td>282</td>\n",
       "      <td>359</td>\n",
       "      <td>4</td>\n",
       "      <td>442.695000</td>\n",
       "      <td>40.285714</td>\n",
       "      <td>51.285714</td>\n",
       "      <td>0.364322</td>\n",
       "      <td>1.087951</td>\n",
       "      <td>463.745539</td>\n",
       "      <td>1.919391</td>\n",
       "    </tr>\n",
       "    <tr>\n",
       "      <th>12352.0</th>\n",
       "      <td>260</td>\n",
       "      <td>297</td>\n",
       "      <td>8</td>\n",
       "      <td>219.542500</td>\n",
       "      <td>37.142857</td>\n",
       "      <td>42.428571</td>\n",
       "      <td>0.739160</td>\n",
       "      <td>2.206857</td>\n",
       "      <td>224.886669</td>\n",
       "      <td>1.904146</td>\n",
       "    </tr>\n",
       "    <tr>\n",
       "      <th>12356.0</th>\n",
       "      <td>302</td>\n",
       "      <td>326</td>\n",
       "      <td>3</td>\n",
       "      <td>937.143333</td>\n",
       "      <td>43.142857</td>\n",
       "      <td>46.571429</td>\n",
       "      <td>0.333040</td>\n",
       "      <td>0.993934</td>\n",
       "      <td>995.997679</td>\n",
       "      <td>2.802492</td>\n",
       "    </tr>\n",
       "    <tr>\n",
       "      <th>12358.0</th>\n",
       "      <td>149</td>\n",
       "      <td>151</td>\n",
       "      <td>2</td>\n",
       "      <td>575.210000</td>\n",
       "      <td>21.285714</td>\n",
       "      <td>21.571429</td>\n",
       "      <td>0.474048</td>\n",
       "      <td>1.408955</td>\n",
       "      <td>631.900951</td>\n",
       "      <td>2.612984</td>\n",
       "    </tr>\n",
       "  </tbody>\n",
       "</table>\n",
       "</div>"
      ],
      "text/plain": [
       "             recency_cltv_p    T  frequency  monetary_avg  \\\n",
       "Customer ID                                                 \n",
       "12347.0                 365  368          7    615.714286   \n",
       "12348.0                 282  359          4    442.695000   \n",
       "12352.0                 260  297          8    219.542500   \n",
       "12356.0                 302  326          3    937.143333   \n",
       "12358.0                 149  151          2    575.210000   \n",
       "\n",
       "             recency_weekly_cltv_p   T_weekly  exp_sales_1_month  \\\n",
       "Customer ID                                                        \n",
       "12347.0                  52.142857  52.571429           0.561684   \n",
       "12348.0                  40.285714  51.285714           0.364322   \n",
       "12352.0                  37.142857  42.428571           0.739160   \n",
       "12356.0                  43.142857  46.571429           0.333040   \n",
       "12358.0                  21.285714  21.571429           0.474048   \n",
       "\n",
       "             exp_sales_3_month  expected_average_profit    cltv_p  \n",
       "Customer ID                                                        \n",
       "12347.0               1.678069               631.911974  2.933517  \n",
       "12348.0               1.087951               463.745539  1.919391  \n",
       "12352.0               2.206857               224.886669  1.904146  \n",
       "12356.0               0.993934               995.997679  2.802492  \n",
       "12358.0               1.408955               631.900951  2.612984  "
      ]
     },
     "execution_count": 38,
     "metadata": {},
     "output_type": "execute_result"
    }
   ],
   "source": [
    "rfm.head()"
   ]
  },
  {
   "cell_type": "markdown",
   "metadata": {},
   "source": [
    "##### Everything looks allright"
   ]
  },
  {
   "cell_type": "markdown",
   "metadata": {},
   "source": [
    "##### Now in order \"cltv_p\" score we calculated to make sense to us lets make it scaleable"
   ]
  },
  {
   "cell_type": "code",
   "execution_count": 37,
   "metadata": {},
   "outputs": [],
   "source": [
    "scaler = MinMaxScaler(feature_range=(1, 100))\n",
    "scaler.fit(rfm[[\"cltv_p\"]])\n",
    "rfm[\"cltv_p\"] = scaler.transform(rfm[[\"cltv_p\"]])"
   ]
  },
  {
   "cell_type": "markdown",
   "metadata": {},
   "source": [
    "##### We can now confidently segment our customers according to their cltv values"
   ]
  },
  {
   "cell_type": "code",
   "execution_count": 39,
   "metadata": {},
   "outputs": [],
   "source": [
    "rfm[\"cltv_p_segment\"] = pd.qcut(rfm[\"cltv_p\"], 4, labels=[\"bronze\",\"silver\", \"gold\", \"premium\"])"
   ]
  },
  {
   "cell_type": "markdown",
   "metadata": {
    "jupyter": {
     "outputs_hidden": true
    }
   },
   "source": [
    "##### Here we diveded customers into segments using quartiles but this segmentation can be customized with using more complex structures"
   ]
  },
  {
   "cell_type": "markdown",
   "metadata": {},
   "source": [
    "##### Now We are succesfully segmented our customers. Lets sort them down and take a look"
   ]
  },
  {
   "cell_type": "code",
   "execution_count": 44,
   "metadata": {},
   "outputs": [
    {
     "data": {
      "text/html": [
       "<div>\n",
       "<style scoped>\n",
       "    .dataframe tbody tr th:only-of-type {\n",
       "        vertical-align: middle;\n",
       "    }\n",
       "\n",
       "    .dataframe tbody tr th {\n",
       "        vertical-align: top;\n",
       "    }\n",
       "\n",
       "    .dataframe thead th {\n",
       "        text-align: right;\n",
       "    }\n",
       "</style>\n",
       "<table border=\"1\" class=\"dataframe\">\n",
       "  <thead>\n",
       "    <tr style=\"text-align: right;\">\n",
       "      <th></th>\n",
       "      <th>recency_cltv_p</th>\n",
       "      <th>T</th>\n",
       "      <th>frequency</th>\n",
       "      <th>monetary_avg</th>\n",
       "      <th>recency_weekly_cltv_p</th>\n",
       "      <th>T_weekly</th>\n",
       "      <th>exp_sales_1_month</th>\n",
       "      <th>exp_sales_3_month</th>\n",
       "      <th>expected_average_profit</th>\n",
       "      <th>cltv_p</th>\n",
       "      <th>cltv_p_segment</th>\n",
       "    </tr>\n",
       "    <tr>\n",
       "      <th>Customer ID</th>\n",
       "      <th></th>\n",
       "      <th></th>\n",
       "      <th></th>\n",
       "      <th></th>\n",
       "      <th></th>\n",
       "      <th></th>\n",
       "      <th></th>\n",
       "      <th></th>\n",
       "      <th></th>\n",
       "      <th></th>\n",
       "      <th></th>\n",
       "    </tr>\n",
       "  </thead>\n",
       "  <tbody>\n",
       "    <tr>\n",
       "      <th>14646.0</th>\n",
       "      <td>353</td>\n",
       "      <td>355</td>\n",
       "      <td>74</td>\n",
       "      <td>3596.804392</td>\n",
       "      <td>50.428571</td>\n",
       "      <td>50.714286</td>\n",
       "      <td>5.035170</td>\n",
       "      <td>15.049808</td>\n",
       "      <td>3605.309159</td>\n",
       "      <td>100.000000</td>\n",
       "      <td>premium</td>\n",
       "    </tr>\n",
       "    <tr>\n",
       "      <th>18102.0</th>\n",
       "      <td>366</td>\n",
       "      <td>368</td>\n",
       "      <td>60</td>\n",
       "      <td>3859.739083</td>\n",
       "      <td>52.285714</td>\n",
       "      <td>52.571429</td>\n",
       "      <td>3.981335</td>\n",
       "      <td>11.900989</td>\n",
       "      <td>3870.996702</td>\n",
       "      <td>85.065982</td>\n",
       "      <td>premium</td>\n",
       "    </tr>\n",
       "    <tr>\n",
       "      <th>14096.0</th>\n",
       "      <td>97</td>\n",
       "      <td>102</td>\n",
       "      <td>17</td>\n",
       "      <td>3163.588235</td>\n",
       "      <td>13.857143</td>\n",
       "      <td>14.571429</td>\n",
       "      <td>3.112278</td>\n",
       "      <td>9.255671</td>\n",
       "      <td>3196.435385</td>\n",
       "      <td>54.640819</td>\n",
       "      <td>premium</td>\n",
       "    </tr>\n",
       "    <tr>\n",
       "      <th>12415.0</th>\n",
       "      <td>313</td>\n",
       "      <td>338</td>\n",
       "      <td>21</td>\n",
       "      <td>5724.302619</td>\n",
       "      <td>44.714286</td>\n",
       "      <td>48.285714</td>\n",
       "      <td>1.560391</td>\n",
       "      <td>4.662433</td>\n",
       "      <td>5772.177190</td>\n",
       "      <td>50.081947</td>\n",
       "      <td>premium</td>\n",
       "    </tr>\n",
       "    <tr>\n",
       "      <th>14911.0</th>\n",
       "      <td>372</td>\n",
       "      <td>374</td>\n",
       "      <td>201</td>\n",
       "      <td>691.710100</td>\n",
       "      <td>53.142857</td>\n",
       "      <td>53.428571</td>\n",
       "      <td>12.896742</td>\n",
       "      <td>38.554879</td>\n",
       "      <td>692.326355</td>\n",
       "      <td>49.715635</td>\n",
       "      <td>premium</td>\n",
       "    </tr>\n",
       "  </tbody>\n",
       "</table>\n",
       "</div>"
      ],
      "text/plain": [
       "             recency_cltv_p    T  frequency  monetary_avg  \\\n",
       "Customer ID                                                 \n",
       "14646.0                 353  355         74   3596.804392   \n",
       "18102.0                 366  368         60   3859.739083   \n",
       "14096.0                  97  102         17   3163.588235   \n",
       "12415.0                 313  338         21   5724.302619   \n",
       "14911.0                 372  374        201    691.710100   \n",
       "\n",
       "             recency_weekly_cltv_p   T_weekly  exp_sales_1_month  \\\n",
       "Customer ID                                                        \n",
       "14646.0                  50.428571  50.714286           5.035170   \n",
       "18102.0                  52.285714  52.571429           3.981335   \n",
       "14096.0                  13.857143  14.571429           3.112278   \n",
       "12415.0                  44.714286  48.285714           1.560391   \n",
       "14911.0                  53.142857  53.428571          12.896742   \n",
       "\n",
       "             exp_sales_3_month  expected_average_profit      cltv_p  \\\n",
       "Customer ID                                                           \n",
       "14646.0              15.049808              3605.309159  100.000000   \n",
       "18102.0              11.900989              3870.996702   85.065982   \n",
       "14096.0               9.255671              3196.435385   54.640819   \n",
       "12415.0               4.662433              5772.177190   50.081947   \n",
       "14911.0              38.554879               692.326355   49.715635   \n",
       "\n",
       "            cltv_p_segment  \n",
       "Customer ID                 \n",
       "14646.0            premium  \n",
       "18102.0            premium  \n",
       "14096.0            premium  \n",
       "12415.0            premium  \n",
       "14911.0            premium  "
      ]
     },
     "execution_count": 44,
     "metadata": {},
     "output_type": "execute_result"
    }
   ],
   "source": [
    "rfm.sort_values(by=\"cltv_p\", ascending=False).head()"
   ]
  }
 ],
 "metadata": {
  "kernelspec": {
   "display_name": "Python 3",
   "language": "python",
   "name": "python3"
  },
  "language_info": {
   "codemirror_mode": {
    "name": "ipython",
    "version": 3
   },
   "file_extension": ".py",
   "mimetype": "text/x-python",
   "name": "python",
   "nbconvert_exporter": "python",
   "pygments_lexer": "ipython3",
   "version": "3.8.5"
  }
 },
 "nbformat": 4,
 "nbformat_minor": 4
}
